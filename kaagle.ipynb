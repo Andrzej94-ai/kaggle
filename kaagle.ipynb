{
  "nbformat": 4,
  "nbformat_minor": 0,
  "metadata": {
    "colab": {
      "provenance": [],
      "authorship_tag": "ABX9TyPqWRO+nWotkN1HYxMSqtWe",
      "include_colab_link": true
    },
    "kernelspec": {
      "name": "python3",
      "display_name": "Python 3"
    },
    "language_info": {
      "name": "python"
    }
  },
  "cells": [
    {
      "cell_type": "markdown",
      "metadata": {
        "id": "view-in-github",
        "colab_type": "text"
      },
      "source": [
        "<a href=\"https://colab.research.google.com/github/Andrzej94-ai/kaggle/blob/main/kaagle.ipynb\" target=\"_parent\"><img src=\"https://colab.research.google.com/assets/colab-badge.svg\" alt=\"Open In Colab\"/></a>"
      ]
    },
    {
      "cell_type": "markdown",
      "source": [
        "Import bibliotek"
      ],
      "metadata": {
        "id": "TmJwz3hhVOIN"
      }
    },
    {
      "cell_type": "code",
      "source": [
        "import pandas as pd"
      ],
      "metadata": {
        "id": "BXYjMF0lVT3y"
      },
      "execution_count": 1,
      "outputs": []
    },
    {
      "cell_type": "markdown",
      "source": [
        "Analiza zbioru"
      ],
      "metadata": {
        "id": "SFfUZVDNVcGA"
      }
    },
    {
      "cell_type": "code",
      "source": [
        "data = pd.read_csv(\"/content/AmesHousing.csv\")"
      ],
      "metadata": {
        "id": "uhe3p8mdVh9u"
      },
      "execution_count": 4,
      "outputs": []
    },
    {
      "cell_type": "code",
      "source": [
        "data.describe().T"
      ],
      "metadata": {
        "colab": {
          "base_uri": "https://localhost:8080/",
          "height": 1000
        },
        "id": "ygXvjCVBWIvD",
        "outputId": "b0c93c28-f3d3-4ab4-ea4b-6a8d685eb13d"
      },
      "execution_count": 13,
      "outputs": [
        {
          "output_type": "execute_result",
          "data": {
            "text/plain": [
              "                  count          mean           std          min  \\\n",
              "Order            2930.0  1.465500e+03  8.459625e+02          1.0   \n",
              "PID              2930.0  7.144645e+08  1.887308e+08  526301100.0   \n",
              "MS SubClass      2930.0  5.738737e+01  4.263802e+01         20.0   \n",
              "Lot Frontage     2440.0  6.922459e+01  2.336533e+01         21.0   \n",
              "Lot Area         2930.0  1.014792e+04  7.880018e+03       1300.0   \n",
              "Overall Qual     2930.0  6.094881e+00  1.411026e+00          1.0   \n",
              "Overall Cond     2930.0  5.563140e+00  1.111537e+00          1.0   \n",
              "Year Built       2930.0  1.971356e+03  3.024536e+01       1872.0   \n",
              "Year Remod/Add   2930.0  1.984267e+03  2.086029e+01       1950.0   \n",
              "Mas Vnr Area     2907.0  1.018968e+02  1.791126e+02          0.0   \n",
              "BsmtFin SF 1     2929.0  4.426296e+02  4.555908e+02          0.0   \n",
              "BsmtFin SF 2     2929.0  4.972243e+01  1.691685e+02          0.0   \n",
              "Bsmt Unf SF      2929.0  5.592625e+02  4.394942e+02          0.0   \n",
              "Total Bsmt SF    2929.0  1.051615e+03  4.406151e+02          0.0   \n",
              "1st Flr SF       2930.0  1.159558e+03  3.918909e+02        334.0   \n",
              "2nd Flr SF       2930.0  3.354560e+02  4.283957e+02          0.0   \n",
              "Low Qual Fin SF  2930.0  4.676792e+00  4.631051e+01          0.0   \n",
              "Gr Liv Area      2930.0  1.499690e+03  5.055089e+02        334.0   \n",
              "Bsmt Full Bath   2928.0  4.313525e-01  5.248202e-01          0.0   \n",
              "Bsmt Half Bath   2928.0  6.113388e-02  2.452536e-01          0.0   \n",
              "Full Bath        2930.0  1.566553e+00  5.529406e-01          0.0   \n",
              "Half Bath        2930.0  3.795222e-01  5.026293e-01          0.0   \n",
              "Bedroom AbvGr    2930.0  2.854266e+00  8.277311e-01          0.0   \n",
              "Kitchen AbvGr    2930.0  1.044369e+00  2.140762e-01          0.0   \n",
              "TotRms AbvGrd    2930.0  6.443003e+00  1.572964e+00          2.0   \n",
              "Fireplaces       2930.0  5.993174e-01  6.479209e-01          0.0   \n",
              "Garage Yr Blt    2771.0  1.978132e+03  2.552841e+01       1895.0   \n",
              "Garage Cars      2929.0  1.766815e+00  7.605664e-01          0.0   \n",
              "Garage Area      2929.0  4.728197e+02  2.150465e+02          0.0   \n",
              "Wood Deck SF     2930.0  9.375188e+01  1.263616e+02          0.0   \n",
              "Open Porch SF    2930.0  4.753345e+01  6.748340e+01          0.0   \n",
              "Enclosed Porch   2930.0  2.301160e+01  6.413906e+01          0.0   \n",
              "3Ssn Porch       2930.0  2.592491e+00  2.514133e+01          0.0   \n",
              "Screen Porch     2930.0  1.600205e+01  5.608737e+01          0.0   \n",
              "Pool Area        2930.0  2.243345e+00  3.559718e+01          0.0   \n",
              "Misc Val         2930.0  5.063515e+01  5.663443e+02          0.0   \n",
              "Mo Sold          2930.0  6.216041e+00  2.714492e+00          1.0   \n",
              "Yr Sold          2930.0  2.007790e+03  1.316613e+00       2006.0   \n",
              "SalePrice        2930.0  1.807961e+05  7.988669e+04      12789.0   \n",
              "\n",
              "                          25%          50%           75%           max  \n",
              "Order            7.332500e+02       1465.5  2.197750e+03  2.930000e+03  \n",
              "PID              5.284770e+08  535453620.0  9.071811e+08  1.007100e+09  \n",
              "MS SubClass      2.000000e+01         50.0  7.000000e+01  1.900000e+02  \n",
              "Lot Frontage     5.800000e+01         68.0  8.000000e+01  3.130000e+02  \n",
              "Lot Area         7.440250e+03       9436.5  1.155525e+04  2.152450e+05  \n",
              "Overall Qual     5.000000e+00          6.0  7.000000e+00  1.000000e+01  \n",
              "Overall Cond     5.000000e+00          5.0  6.000000e+00  9.000000e+00  \n",
              "Year Built       1.954000e+03       1973.0  2.001000e+03  2.010000e+03  \n",
              "Year Remod/Add   1.965000e+03       1993.0  2.004000e+03  2.010000e+03  \n",
              "Mas Vnr Area     0.000000e+00          0.0  1.640000e+02  1.600000e+03  \n",
              "BsmtFin SF 1     0.000000e+00        370.0  7.340000e+02  5.644000e+03  \n",
              "BsmtFin SF 2     0.000000e+00          0.0  0.000000e+00  1.526000e+03  \n",
              "Bsmt Unf SF      2.190000e+02        466.0  8.020000e+02  2.336000e+03  \n",
              "Total Bsmt SF    7.930000e+02        990.0  1.302000e+03  6.110000e+03  \n",
              "1st Flr SF       8.762500e+02       1084.0  1.384000e+03  5.095000e+03  \n",
              "2nd Flr SF       0.000000e+00          0.0  7.037500e+02  2.065000e+03  \n",
              "Low Qual Fin SF  0.000000e+00          0.0  0.000000e+00  1.064000e+03  \n",
              "Gr Liv Area      1.126000e+03       1442.0  1.742750e+03  5.642000e+03  \n",
              "Bsmt Full Bath   0.000000e+00          0.0  1.000000e+00  3.000000e+00  \n",
              "Bsmt Half Bath   0.000000e+00          0.0  0.000000e+00  2.000000e+00  \n",
              "Full Bath        1.000000e+00          2.0  2.000000e+00  4.000000e+00  \n",
              "Half Bath        0.000000e+00          0.0  1.000000e+00  2.000000e+00  \n",
              "Bedroom AbvGr    2.000000e+00          3.0  3.000000e+00  8.000000e+00  \n",
              "Kitchen AbvGr    1.000000e+00          1.0  1.000000e+00  3.000000e+00  \n",
              "TotRms AbvGrd    5.000000e+00          6.0  7.000000e+00  1.500000e+01  \n",
              "Fireplaces       0.000000e+00          1.0  1.000000e+00  4.000000e+00  \n",
              "Garage Yr Blt    1.960000e+03       1979.0  2.002000e+03  2.207000e+03  \n",
              "Garage Cars      1.000000e+00          2.0  2.000000e+00  5.000000e+00  \n",
              "Garage Area      3.200000e+02        480.0  5.760000e+02  1.488000e+03  \n",
              "Wood Deck SF     0.000000e+00          0.0  1.680000e+02  1.424000e+03  \n",
              "Open Porch SF    0.000000e+00         27.0  7.000000e+01  7.420000e+02  \n",
              "Enclosed Porch   0.000000e+00          0.0  0.000000e+00  1.012000e+03  \n",
              "3Ssn Porch       0.000000e+00          0.0  0.000000e+00  5.080000e+02  \n",
              "Screen Porch     0.000000e+00          0.0  0.000000e+00  5.760000e+02  \n",
              "Pool Area        0.000000e+00          0.0  0.000000e+00  8.000000e+02  \n",
              "Misc Val         0.000000e+00          0.0  0.000000e+00  1.700000e+04  \n",
              "Mo Sold          4.000000e+00          6.0  8.000000e+00  1.200000e+01  \n",
              "Yr Sold          2.007000e+03       2008.0  2.009000e+03  2.010000e+03  \n",
              "SalePrice        1.295000e+05     160000.0  2.135000e+05  7.550000e+05  "
            ],
            "text/html": [
              "\n",
              "  <div id=\"df-4100fbf6-5676-4980-8810-b98b5bad0176\">\n",
              "    <div class=\"colab-df-container\">\n",
              "      <div>\n",
              "<style scoped>\n",
              "    .dataframe tbody tr th:only-of-type {\n",
              "        vertical-align: middle;\n",
              "    }\n",
              "\n",
              "    .dataframe tbody tr th {\n",
              "        vertical-align: top;\n",
              "    }\n",
              "\n",
              "    .dataframe thead th {\n",
              "        text-align: right;\n",
              "    }\n",
              "</style>\n",
              "<table border=\"1\" class=\"dataframe\">\n",
              "  <thead>\n",
              "    <tr style=\"text-align: right;\">\n",
              "      <th></th>\n",
              "      <th>count</th>\n",
              "      <th>mean</th>\n",
              "      <th>std</th>\n",
              "      <th>min</th>\n",
              "      <th>25%</th>\n",
              "      <th>50%</th>\n",
              "      <th>75%</th>\n",
              "      <th>max</th>\n",
              "    </tr>\n",
              "  </thead>\n",
              "  <tbody>\n",
              "    <tr>\n",
              "      <th>Order</th>\n",
              "      <td>2930.0</td>\n",
              "      <td>1.465500e+03</td>\n",
              "      <td>8.459625e+02</td>\n",
              "      <td>1.0</td>\n",
              "      <td>7.332500e+02</td>\n",
              "      <td>1465.5</td>\n",
              "      <td>2.197750e+03</td>\n",
              "      <td>2.930000e+03</td>\n",
              "    </tr>\n",
              "    <tr>\n",
              "      <th>PID</th>\n",
              "      <td>2930.0</td>\n",
              "      <td>7.144645e+08</td>\n",
              "      <td>1.887308e+08</td>\n",
              "      <td>526301100.0</td>\n",
              "      <td>5.284770e+08</td>\n",
              "      <td>535453620.0</td>\n",
              "      <td>9.071811e+08</td>\n",
              "      <td>1.007100e+09</td>\n",
              "    </tr>\n",
              "    <tr>\n",
              "      <th>MS SubClass</th>\n",
              "      <td>2930.0</td>\n",
              "      <td>5.738737e+01</td>\n",
              "      <td>4.263802e+01</td>\n",
              "      <td>20.0</td>\n",
              "      <td>2.000000e+01</td>\n",
              "      <td>50.0</td>\n",
              "      <td>7.000000e+01</td>\n",
              "      <td>1.900000e+02</td>\n",
              "    </tr>\n",
              "    <tr>\n",
              "      <th>Lot Frontage</th>\n",
              "      <td>2440.0</td>\n",
              "      <td>6.922459e+01</td>\n",
              "      <td>2.336533e+01</td>\n",
              "      <td>21.0</td>\n",
              "      <td>5.800000e+01</td>\n",
              "      <td>68.0</td>\n",
              "      <td>8.000000e+01</td>\n",
              "      <td>3.130000e+02</td>\n",
              "    </tr>\n",
              "    <tr>\n",
              "      <th>Lot Area</th>\n",
              "      <td>2930.0</td>\n",
              "      <td>1.014792e+04</td>\n",
              "      <td>7.880018e+03</td>\n",
              "      <td>1300.0</td>\n",
              "      <td>7.440250e+03</td>\n",
              "      <td>9436.5</td>\n",
              "      <td>1.155525e+04</td>\n",
              "      <td>2.152450e+05</td>\n",
              "    </tr>\n",
              "    <tr>\n",
              "      <th>Overall Qual</th>\n",
              "      <td>2930.0</td>\n",
              "      <td>6.094881e+00</td>\n",
              "      <td>1.411026e+00</td>\n",
              "      <td>1.0</td>\n",
              "      <td>5.000000e+00</td>\n",
              "      <td>6.0</td>\n",
              "      <td>7.000000e+00</td>\n",
              "      <td>1.000000e+01</td>\n",
              "    </tr>\n",
              "    <tr>\n",
              "      <th>Overall Cond</th>\n",
              "      <td>2930.0</td>\n",
              "      <td>5.563140e+00</td>\n",
              "      <td>1.111537e+00</td>\n",
              "      <td>1.0</td>\n",
              "      <td>5.000000e+00</td>\n",
              "      <td>5.0</td>\n",
              "      <td>6.000000e+00</td>\n",
              "      <td>9.000000e+00</td>\n",
              "    </tr>\n",
              "    <tr>\n",
              "      <th>Year Built</th>\n",
              "      <td>2930.0</td>\n",
              "      <td>1.971356e+03</td>\n",
              "      <td>3.024536e+01</td>\n",
              "      <td>1872.0</td>\n",
              "      <td>1.954000e+03</td>\n",
              "      <td>1973.0</td>\n",
              "      <td>2.001000e+03</td>\n",
              "      <td>2.010000e+03</td>\n",
              "    </tr>\n",
              "    <tr>\n",
              "      <th>Year Remod/Add</th>\n",
              "      <td>2930.0</td>\n",
              "      <td>1.984267e+03</td>\n",
              "      <td>2.086029e+01</td>\n",
              "      <td>1950.0</td>\n",
              "      <td>1.965000e+03</td>\n",
              "      <td>1993.0</td>\n",
              "      <td>2.004000e+03</td>\n",
              "      <td>2.010000e+03</td>\n",
              "    </tr>\n",
              "    <tr>\n",
              "      <th>Mas Vnr Area</th>\n",
              "      <td>2907.0</td>\n",
              "      <td>1.018968e+02</td>\n",
              "      <td>1.791126e+02</td>\n",
              "      <td>0.0</td>\n",
              "      <td>0.000000e+00</td>\n",
              "      <td>0.0</td>\n",
              "      <td>1.640000e+02</td>\n",
              "      <td>1.600000e+03</td>\n",
              "    </tr>\n",
              "    <tr>\n",
              "      <th>BsmtFin SF 1</th>\n",
              "      <td>2929.0</td>\n",
              "      <td>4.426296e+02</td>\n",
              "      <td>4.555908e+02</td>\n",
              "      <td>0.0</td>\n",
              "      <td>0.000000e+00</td>\n",
              "      <td>370.0</td>\n",
              "      <td>7.340000e+02</td>\n",
              "      <td>5.644000e+03</td>\n",
              "    </tr>\n",
              "    <tr>\n",
              "      <th>BsmtFin SF 2</th>\n",
              "      <td>2929.0</td>\n",
              "      <td>4.972243e+01</td>\n",
              "      <td>1.691685e+02</td>\n",
              "      <td>0.0</td>\n",
              "      <td>0.000000e+00</td>\n",
              "      <td>0.0</td>\n",
              "      <td>0.000000e+00</td>\n",
              "      <td>1.526000e+03</td>\n",
              "    </tr>\n",
              "    <tr>\n",
              "      <th>Bsmt Unf SF</th>\n",
              "      <td>2929.0</td>\n",
              "      <td>5.592625e+02</td>\n",
              "      <td>4.394942e+02</td>\n",
              "      <td>0.0</td>\n",
              "      <td>2.190000e+02</td>\n",
              "      <td>466.0</td>\n",
              "      <td>8.020000e+02</td>\n",
              "      <td>2.336000e+03</td>\n",
              "    </tr>\n",
              "    <tr>\n",
              "      <th>Total Bsmt SF</th>\n",
              "      <td>2929.0</td>\n",
              "      <td>1.051615e+03</td>\n",
              "      <td>4.406151e+02</td>\n",
              "      <td>0.0</td>\n",
              "      <td>7.930000e+02</td>\n",
              "      <td>990.0</td>\n",
              "      <td>1.302000e+03</td>\n",
              "      <td>6.110000e+03</td>\n",
              "    </tr>\n",
              "    <tr>\n",
              "      <th>1st Flr SF</th>\n",
              "      <td>2930.0</td>\n",
              "      <td>1.159558e+03</td>\n",
              "      <td>3.918909e+02</td>\n",
              "      <td>334.0</td>\n",
              "      <td>8.762500e+02</td>\n",
              "      <td>1084.0</td>\n",
              "      <td>1.384000e+03</td>\n",
              "      <td>5.095000e+03</td>\n",
              "    </tr>\n",
              "    <tr>\n",
              "      <th>2nd Flr SF</th>\n",
              "      <td>2930.0</td>\n",
              "      <td>3.354560e+02</td>\n",
              "      <td>4.283957e+02</td>\n",
              "      <td>0.0</td>\n",
              "      <td>0.000000e+00</td>\n",
              "      <td>0.0</td>\n",
              "      <td>7.037500e+02</td>\n",
              "      <td>2.065000e+03</td>\n",
              "    </tr>\n",
              "    <tr>\n",
              "      <th>Low Qual Fin SF</th>\n",
              "      <td>2930.0</td>\n",
              "      <td>4.676792e+00</td>\n",
              "      <td>4.631051e+01</td>\n",
              "      <td>0.0</td>\n",
              "      <td>0.000000e+00</td>\n",
              "      <td>0.0</td>\n",
              "      <td>0.000000e+00</td>\n",
              "      <td>1.064000e+03</td>\n",
              "    </tr>\n",
              "    <tr>\n",
              "      <th>Gr Liv Area</th>\n",
              "      <td>2930.0</td>\n",
              "      <td>1.499690e+03</td>\n",
              "      <td>5.055089e+02</td>\n",
              "      <td>334.0</td>\n",
              "      <td>1.126000e+03</td>\n",
              "      <td>1442.0</td>\n",
              "      <td>1.742750e+03</td>\n",
              "      <td>5.642000e+03</td>\n",
              "    </tr>\n",
              "    <tr>\n",
              "      <th>Bsmt Full Bath</th>\n",
              "      <td>2928.0</td>\n",
              "      <td>4.313525e-01</td>\n",
              "      <td>5.248202e-01</td>\n",
              "      <td>0.0</td>\n",
              "      <td>0.000000e+00</td>\n",
              "      <td>0.0</td>\n",
              "      <td>1.000000e+00</td>\n",
              "      <td>3.000000e+00</td>\n",
              "    </tr>\n",
              "    <tr>\n",
              "      <th>Bsmt Half Bath</th>\n",
              "      <td>2928.0</td>\n",
              "      <td>6.113388e-02</td>\n",
              "      <td>2.452536e-01</td>\n",
              "      <td>0.0</td>\n",
              "      <td>0.000000e+00</td>\n",
              "      <td>0.0</td>\n",
              "      <td>0.000000e+00</td>\n",
              "      <td>2.000000e+00</td>\n",
              "    </tr>\n",
              "    <tr>\n",
              "      <th>Full Bath</th>\n",
              "      <td>2930.0</td>\n",
              "      <td>1.566553e+00</td>\n",
              "      <td>5.529406e-01</td>\n",
              "      <td>0.0</td>\n",
              "      <td>1.000000e+00</td>\n",
              "      <td>2.0</td>\n",
              "      <td>2.000000e+00</td>\n",
              "      <td>4.000000e+00</td>\n",
              "    </tr>\n",
              "    <tr>\n",
              "      <th>Half Bath</th>\n",
              "      <td>2930.0</td>\n",
              "      <td>3.795222e-01</td>\n",
              "      <td>5.026293e-01</td>\n",
              "      <td>0.0</td>\n",
              "      <td>0.000000e+00</td>\n",
              "      <td>0.0</td>\n",
              "      <td>1.000000e+00</td>\n",
              "      <td>2.000000e+00</td>\n",
              "    </tr>\n",
              "    <tr>\n",
              "      <th>Bedroom AbvGr</th>\n",
              "      <td>2930.0</td>\n",
              "      <td>2.854266e+00</td>\n",
              "      <td>8.277311e-01</td>\n",
              "      <td>0.0</td>\n",
              "      <td>2.000000e+00</td>\n",
              "      <td>3.0</td>\n",
              "      <td>3.000000e+00</td>\n",
              "      <td>8.000000e+00</td>\n",
              "    </tr>\n",
              "    <tr>\n",
              "      <th>Kitchen AbvGr</th>\n",
              "      <td>2930.0</td>\n",
              "      <td>1.044369e+00</td>\n",
              "      <td>2.140762e-01</td>\n",
              "      <td>0.0</td>\n",
              "      <td>1.000000e+00</td>\n",
              "      <td>1.0</td>\n",
              "      <td>1.000000e+00</td>\n",
              "      <td>3.000000e+00</td>\n",
              "    </tr>\n",
              "    <tr>\n",
              "      <th>TotRms AbvGrd</th>\n",
              "      <td>2930.0</td>\n",
              "      <td>6.443003e+00</td>\n",
              "      <td>1.572964e+00</td>\n",
              "      <td>2.0</td>\n",
              "      <td>5.000000e+00</td>\n",
              "      <td>6.0</td>\n",
              "      <td>7.000000e+00</td>\n",
              "      <td>1.500000e+01</td>\n",
              "    </tr>\n",
              "    <tr>\n",
              "      <th>Fireplaces</th>\n",
              "      <td>2930.0</td>\n",
              "      <td>5.993174e-01</td>\n",
              "      <td>6.479209e-01</td>\n",
              "      <td>0.0</td>\n",
              "      <td>0.000000e+00</td>\n",
              "      <td>1.0</td>\n",
              "      <td>1.000000e+00</td>\n",
              "      <td>4.000000e+00</td>\n",
              "    </tr>\n",
              "    <tr>\n",
              "      <th>Garage Yr Blt</th>\n",
              "      <td>2771.0</td>\n",
              "      <td>1.978132e+03</td>\n",
              "      <td>2.552841e+01</td>\n",
              "      <td>1895.0</td>\n",
              "      <td>1.960000e+03</td>\n",
              "      <td>1979.0</td>\n",
              "      <td>2.002000e+03</td>\n",
              "      <td>2.207000e+03</td>\n",
              "    </tr>\n",
              "    <tr>\n",
              "      <th>Garage Cars</th>\n",
              "      <td>2929.0</td>\n",
              "      <td>1.766815e+00</td>\n",
              "      <td>7.605664e-01</td>\n",
              "      <td>0.0</td>\n",
              "      <td>1.000000e+00</td>\n",
              "      <td>2.0</td>\n",
              "      <td>2.000000e+00</td>\n",
              "      <td>5.000000e+00</td>\n",
              "    </tr>\n",
              "    <tr>\n",
              "      <th>Garage Area</th>\n",
              "      <td>2929.0</td>\n",
              "      <td>4.728197e+02</td>\n",
              "      <td>2.150465e+02</td>\n",
              "      <td>0.0</td>\n",
              "      <td>3.200000e+02</td>\n",
              "      <td>480.0</td>\n",
              "      <td>5.760000e+02</td>\n",
              "      <td>1.488000e+03</td>\n",
              "    </tr>\n",
              "    <tr>\n",
              "      <th>Wood Deck SF</th>\n",
              "      <td>2930.0</td>\n",
              "      <td>9.375188e+01</td>\n",
              "      <td>1.263616e+02</td>\n",
              "      <td>0.0</td>\n",
              "      <td>0.000000e+00</td>\n",
              "      <td>0.0</td>\n",
              "      <td>1.680000e+02</td>\n",
              "      <td>1.424000e+03</td>\n",
              "    </tr>\n",
              "    <tr>\n",
              "      <th>Open Porch SF</th>\n",
              "      <td>2930.0</td>\n",
              "      <td>4.753345e+01</td>\n",
              "      <td>6.748340e+01</td>\n",
              "      <td>0.0</td>\n",
              "      <td>0.000000e+00</td>\n",
              "      <td>27.0</td>\n",
              "      <td>7.000000e+01</td>\n",
              "      <td>7.420000e+02</td>\n",
              "    </tr>\n",
              "    <tr>\n",
              "      <th>Enclosed Porch</th>\n",
              "      <td>2930.0</td>\n",
              "      <td>2.301160e+01</td>\n",
              "      <td>6.413906e+01</td>\n",
              "      <td>0.0</td>\n",
              "      <td>0.000000e+00</td>\n",
              "      <td>0.0</td>\n",
              "      <td>0.000000e+00</td>\n",
              "      <td>1.012000e+03</td>\n",
              "    </tr>\n",
              "    <tr>\n",
              "      <th>3Ssn Porch</th>\n",
              "      <td>2930.0</td>\n",
              "      <td>2.592491e+00</td>\n",
              "      <td>2.514133e+01</td>\n",
              "      <td>0.0</td>\n",
              "      <td>0.000000e+00</td>\n",
              "      <td>0.0</td>\n",
              "      <td>0.000000e+00</td>\n",
              "      <td>5.080000e+02</td>\n",
              "    </tr>\n",
              "    <tr>\n",
              "      <th>Screen Porch</th>\n",
              "      <td>2930.0</td>\n",
              "      <td>1.600205e+01</td>\n",
              "      <td>5.608737e+01</td>\n",
              "      <td>0.0</td>\n",
              "      <td>0.000000e+00</td>\n",
              "      <td>0.0</td>\n",
              "      <td>0.000000e+00</td>\n",
              "      <td>5.760000e+02</td>\n",
              "    </tr>\n",
              "    <tr>\n",
              "      <th>Pool Area</th>\n",
              "      <td>2930.0</td>\n",
              "      <td>2.243345e+00</td>\n",
              "      <td>3.559718e+01</td>\n",
              "      <td>0.0</td>\n",
              "      <td>0.000000e+00</td>\n",
              "      <td>0.0</td>\n",
              "      <td>0.000000e+00</td>\n",
              "      <td>8.000000e+02</td>\n",
              "    </tr>\n",
              "    <tr>\n",
              "      <th>Misc Val</th>\n",
              "      <td>2930.0</td>\n",
              "      <td>5.063515e+01</td>\n",
              "      <td>5.663443e+02</td>\n",
              "      <td>0.0</td>\n",
              "      <td>0.000000e+00</td>\n",
              "      <td>0.0</td>\n",
              "      <td>0.000000e+00</td>\n",
              "      <td>1.700000e+04</td>\n",
              "    </tr>\n",
              "    <tr>\n",
              "      <th>Mo Sold</th>\n",
              "      <td>2930.0</td>\n",
              "      <td>6.216041e+00</td>\n",
              "      <td>2.714492e+00</td>\n",
              "      <td>1.0</td>\n",
              "      <td>4.000000e+00</td>\n",
              "      <td>6.0</td>\n",
              "      <td>8.000000e+00</td>\n",
              "      <td>1.200000e+01</td>\n",
              "    </tr>\n",
              "    <tr>\n",
              "      <th>Yr Sold</th>\n",
              "      <td>2930.0</td>\n",
              "      <td>2.007790e+03</td>\n",
              "      <td>1.316613e+00</td>\n",
              "      <td>2006.0</td>\n",
              "      <td>2.007000e+03</td>\n",
              "      <td>2008.0</td>\n",
              "      <td>2.009000e+03</td>\n",
              "      <td>2.010000e+03</td>\n",
              "    </tr>\n",
              "    <tr>\n",
              "      <th>SalePrice</th>\n",
              "      <td>2930.0</td>\n",
              "      <td>1.807961e+05</td>\n",
              "      <td>7.988669e+04</td>\n",
              "      <td>12789.0</td>\n",
              "      <td>1.295000e+05</td>\n",
              "      <td>160000.0</td>\n",
              "      <td>2.135000e+05</td>\n",
              "      <td>7.550000e+05</td>\n",
              "    </tr>\n",
              "  </tbody>\n",
              "</table>\n",
              "</div>\n",
              "      <button class=\"colab-df-convert\" onclick=\"convertToInteractive('df-4100fbf6-5676-4980-8810-b98b5bad0176')\"\n",
              "              title=\"Convert this dataframe to an interactive table.\"\n",
              "              style=\"display:none;\">\n",
              "        \n",
              "  <svg xmlns=\"http://www.w3.org/2000/svg\" height=\"24px\"viewBox=\"0 0 24 24\"\n",
              "       width=\"24px\">\n",
              "    <path d=\"M0 0h24v24H0V0z\" fill=\"none\"/>\n",
              "    <path d=\"M18.56 5.44l.94 2.06.94-2.06 2.06-.94-2.06-.94-.94-2.06-.94 2.06-2.06.94zm-11 1L8.5 8.5l.94-2.06 2.06-.94-2.06-.94L8.5 2.5l-.94 2.06-2.06.94zm10 10l.94 2.06.94-2.06 2.06-.94-2.06-.94-.94-2.06-.94 2.06-2.06.94z\"/><path d=\"M17.41 7.96l-1.37-1.37c-.4-.4-.92-.59-1.43-.59-.52 0-1.04.2-1.43.59L10.3 9.45l-7.72 7.72c-.78.78-.78 2.05 0 2.83L4 21.41c.39.39.9.59 1.41.59.51 0 1.02-.2 1.41-.59l7.78-7.78 2.81-2.81c.8-.78.8-2.07 0-2.86zM5.41 20L4 18.59l7.72-7.72 1.47 1.35L5.41 20z\"/>\n",
              "  </svg>\n",
              "      </button>\n",
              "      \n",
              "  <style>\n",
              "    .colab-df-container {\n",
              "      display:flex;\n",
              "      flex-wrap:wrap;\n",
              "      gap: 12px;\n",
              "    }\n",
              "\n",
              "    .colab-df-convert {\n",
              "      background-color: #E8F0FE;\n",
              "      border: none;\n",
              "      border-radius: 50%;\n",
              "      cursor: pointer;\n",
              "      display: none;\n",
              "      fill: #1967D2;\n",
              "      height: 32px;\n",
              "      padding: 0 0 0 0;\n",
              "      width: 32px;\n",
              "    }\n",
              "\n",
              "    .colab-df-convert:hover {\n",
              "      background-color: #E2EBFA;\n",
              "      box-shadow: 0px 1px 2px rgba(60, 64, 67, 0.3), 0px 1px 3px 1px rgba(60, 64, 67, 0.15);\n",
              "      fill: #174EA6;\n",
              "    }\n",
              "\n",
              "    [theme=dark] .colab-df-convert {\n",
              "      background-color: #3B4455;\n",
              "      fill: #D2E3FC;\n",
              "    }\n",
              "\n",
              "    [theme=dark] .colab-df-convert:hover {\n",
              "      background-color: #434B5C;\n",
              "      box-shadow: 0px 1px 3px 1px rgba(0, 0, 0, 0.15);\n",
              "      filter: drop-shadow(0px 1px 2px rgba(0, 0, 0, 0.3));\n",
              "      fill: #FFFFFF;\n",
              "    }\n",
              "  </style>\n",
              "\n",
              "      <script>\n",
              "        const buttonEl =\n",
              "          document.querySelector('#df-4100fbf6-5676-4980-8810-b98b5bad0176 button.colab-df-convert');\n",
              "        buttonEl.style.display =\n",
              "          google.colab.kernel.accessAllowed ? 'block' : 'none';\n",
              "\n",
              "        async function convertToInteractive(key) {\n",
              "          const element = document.querySelector('#df-4100fbf6-5676-4980-8810-b98b5bad0176');\n",
              "          const dataTable =\n",
              "            await google.colab.kernel.invokeFunction('convertToInteractive',\n",
              "                                                     [key], {});\n",
              "          if (!dataTable) return;\n",
              "\n",
              "          const docLinkHtml = 'Like what you see? Visit the ' +\n",
              "            '<a target=\"_blank\" href=https://colab.research.google.com/notebooks/data_table.ipynb>data table notebook</a>'\n",
              "            + ' to learn more about interactive tables.';\n",
              "          element.innerHTML = '';\n",
              "          dataTable['output_type'] = 'display_data';\n",
              "          await google.colab.output.renderOutput(dataTable, element);\n",
              "          const docLink = document.createElement('div');\n",
              "          docLink.innerHTML = docLinkHtml;\n",
              "          element.appendChild(docLink);\n",
              "        }\n",
              "      </script>\n",
              "    </div>\n",
              "  </div>\n",
              "  "
            ]
          },
          "metadata": {},
          "execution_count": 13
        }
      ]
    },
    {
      "cell_type": "code",
      "source": [
        "data.columns"
      ],
      "metadata": {
        "colab": {
          "base_uri": "https://localhost:8080/"
        },
        "id": "5__VIkIsYqN9",
        "outputId": "bd4290cc-d1ce-41e0-cdf6-84c6d37dbd45"
      },
      "execution_count": 16,
      "outputs": [
        {
          "output_type": "execute_result",
          "data": {
            "text/plain": [
              "Index(['Order', 'PID', 'MS SubClass', 'MS Zoning', 'Lot Frontage', 'Lot Area',\n",
              "       'Street', 'Alley', 'Lot Shape', 'Land Contour', 'Utilities',\n",
              "       'Lot Config', 'Land Slope', 'Neighborhood', 'Condition 1',\n",
              "       'Condition 2', 'Bldg Type', 'House Style', 'Overall Qual',\n",
              "       'Overall Cond', 'Year Built', 'Year Remod/Add', 'Roof Style',\n",
              "       'Roof Matl', 'Exterior 1st', 'Exterior 2nd', 'Mas Vnr Type',\n",
              "       'Mas Vnr Area', 'Exter Qual', 'Exter Cond', 'Foundation', 'Bsmt Qual',\n",
              "       'Bsmt Cond', 'Bsmt Exposure', 'BsmtFin Type 1', 'BsmtFin SF 1',\n",
              "       'BsmtFin Type 2', 'BsmtFin SF 2', 'Bsmt Unf SF', 'Total Bsmt SF',\n",
              "       'Heating', 'Heating QC', 'Central Air', 'Electrical', '1st Flr SF',\n",
              "       '2nd Flr SF', 'Low Qual Fin SF', 'Gr Liv Area', 'Bsmt Full Bath',\n",
              "       'Bsmt Half Bath', 'Full Bath', 'Half Bath', 'Bedroom AbvGr',\n",
              "       'Kitchen AbvGr', 'Kitchen Qual', 'TotRms AbvGrd', 'Functional',\n",
              "       'Fireplaces', 'Fireplace Qu', 'Garage Type', 'Garage Yr Blt',\n",
              "       'Garage Finish', 'Garage Cars', 'Garage Area', 'Garage Qual',\n",
              "       'Garage Cond', 'Paved Drive', 'Wood Deck SF', 'Open Porch SF',\n",
              "       'Enclosed Porch', '3Ssn Porch', 'Screen Porch', 'Pool Area', 'Pool QC',\n",
              "       'Fence', 'Misc Feature', 'Misc Val', 'Mo Sold', 'Yr Sold', 'Sale Type',\n",
              "       'Sale Condition', 'SalePrice'],\n",
              "      dtype='object')"
            ]
          },
          "metadata": {},
          "execution_count": 16
        }
      ]
    },
    {
      "cell_type": "code",
      "source": [
        "data.select_dtypes('object').columns"
      ],
      "metadata": {
        "colab": {
          "base_uri": "https://localhost:8080/"
        },
        "id": "183SIth4Y0df",
        "outputId": "ecfa6655-3d24-445b-cf00-8eb74cfc30c7"
      },
      "execution_count": 25,
      "outputs": [
        {
          "output_type": "execute_result",
          "data": {
            "text/plain": [
              "Index(['MS Zoning', 'Street', 'Alley', 'Lot Shape', 'Land Contour',\n",
              "       'Utilities', 'Lot Config', 'Land Slope', 'Neighborhood', 'Condition 1',\n",
              "       'Condition 2', 'Bldg Type', 'House Style', 'Roof Style', 'Roof Matl',\n",
              "       'Exterior 1st', 'Exterior 2nd', 'Mas Vnr Type', 'Exter Qual',\n",
              "       'Exter Cond', 'Foundation', 'Bsmt Qual', 'Bsmt Cond', 'Bsmt Exposure',\n",
              "       'BsmtFin Type 1', 'BsmtFin Type 2', 'Heating', 'Heating QC',\n",
              "       'Central Air', 'Electrical', 'Kitchen Qual', 'Functional',\n",
              "       'Fireplace Qu', 'Garage Type', 'Garage Finish', 'Garage Qual',\n",
              "       'Garage Cond', 'Paved Drive', 'Pool QC', 'Fence', 'Misc Feature',\n",
              "       'Sale Type', 'Sale Condition'],\n",
              "      dtype='object')"
            ]
          },
          "metadata": {},
          "execution_count": 25
        }
      ]
    },
    {
      "cell_type": "code",
      "source": [
        "data.groupby('MS Zoning')['MS Zoning'].count()"
      ],
      "metadata": {
        "colab": {
          "base_uri": "https://localhost:8080/"
        },
        "id": "IfKBAkaUZkQw",
        "outputId": "e4d40fb6-5cbd-4b8c-fff5-44d0cf93f086"
      },
      "execution_count": 27,
      "outputs": [
        {
          "output_type": "execute_result",
          "data": {
            "text/plain": [
              "MS Zoning\n",
              "A (agr)       2\n",
              "C (all)      25\n",
              "FV          139\n",
              "I (all)       2\n",
              "RH           27\n",
              "RL         2273\n",
              "RM          462\n",
              "Name: MS Zoning, dtype: int64"
            ]
          },
          "metadata": {},
          "execution_count": 27
        }
      ]
    },
    {
      "cell_type": "code",
      "source": [
        "data.groupby('Street')['Street'].count()"
      ],
      "metadata": {
        "colab": {
          "base_uri": "https://localhost:8080/"
        },
        "id": "hn4gew4EaZxk",
        "outputId": "f76e3d1e-7ee3-421f-d12a-730f00969696"
      },
      "execution_count": 28,
      "outputs": [
        {
          "output_type": "execute_result",
          "data": {
            "text/plain": [
              "Street\n",
              "Grvl      12\n",
              "Pave    2918\n",
              "Name: Street, dtype: int64"
            ]
          },
          "metadata": {},
          "execution_count": 28
        }
      ]
    },
    {
      "cell_type": "code",
      "source": [
        "data.groupby('Alley')['Alley'].count()"
      ],
      "metadata": {
        "colab": {
          "base_uri": "https://localhost:8080/"
        },
        "id": "h_9ZB2iWafok",
        "outputId": "cfde89d0-3bc1-4f1c-8519-b906bdf9681e"
      },
      "execution_count": 29,
      "outputs": [
        {
          "output_type": "execute_result",
          "data": {
            "text/plain": [
              "Alley\n",
              "Grvl    120\n",
              "Pave     78\n",
              "Name: Alley, dtype: int64"
            ]
          },
          "metadata": {},
          "execution_count": 29
        }
      ]
    },
    {
      "cell_type": "code",
      "source": [
        "data.groupby('Lot Shape')['Lot Shape'].count()"
      ],
      "metadata": {
        "colab": {
          "base_uri": "https://localhost:8080/"
        },
        "id": "0XQUbdz7afsr",
        "outputId": "8ae3f38f-0e0e-49ba-d003-a051fdd4a203"
      },
      "execution_count": 30,
      "outputs": [
        {
          "output_type": "execute_result",
          "data": {
            "text/plain": [
              "Lot Shape\n",
              "IR1     979\n",
              "IR2      76\n",
              "IR3      16\n",
              "Reg    1859\n",
              "Name: Lot Shape, dtype: int64"
            ]
          },
          "metadata": {},
          "execution_count": 30
        }
      ]
    },
    {
      "cell_type": "code",
      "source": [
        "data.groupby('Neighborhood')['Neighborhood'].count() #label_encoder"
      ],
      "metadata": {
        "colab": {
          "base_uri": "https://localhost:8080/"
        },
        "id": "k5PRTRqXafvo",
        "outputId": "47911b4c-92de-474a-aa9b-b511484fb448"
      },
      "execution_count": 31,
      "outputs": [
        {
          "output_type": "execute_result",
          "data": {
            "text/plain": [
              "Neighborhood\n",
              "Blmngtn     28\n",
              "Blueste     10\n",
              "BrDale      30\n",
              "BrkSide    108\n",
              "ClearCr     44\n",
              "CollgCr    267\n",
              "Crawfor    103\n",
              "Edwards    194\n",
              "Gilbert    165\n",
              "Greens       8\n",
              "GrnHill      2\n",
              "IDOTRR      93\n",
              "Landmrk      1\n",
              "MeadowV     37\n",
              "Mitchel    114\n",
              "NAmes      443\n",
              "NPkVill     23\n",
              "NWAmes     131\n",
              "NoRidge     71\n",
              "NridgHt    166\n",
              "OldTown    239\n",
              "SWISU       48\n",
              "Sawyer     151\n",
              "SawyerW    125\n",
              "Somerst    182\n",
              "StoneBr     51\n",
              "Timber      72\n",
              "Veenker     24\n",
              "Name: Neighborhood, dtype: int64"
            ]
          },
          "metadata": {},
          "execution_count": 31
        }
      ]
    },
    {
      "cell_type": "code",
      "source": [
        "data.groupby('Land Contour')['Land Contour'].count()"
      ],
      "metadata": {
        "colab": {
          "base_uri": "https://localhost:8080/"
        },
        "id": "pUQ8r-AvafyQ",
        "outputId": "4f93e897-4a0e-4a7e-9459-886dcb62815c"
      },
      "execution_count": 32,
      "outputs": [
        {
          "output_type": "execute_result",
          "data": {
            "text/plain": [
              "Land Contour\n",
              "Bnk     117\n",
              "HLS     120\n",
              "Low      60\n",
              "Lvl    2633\n",
              "Name: Land Contour, dtype: int64"
            ]
          },
          "metadata": {},
          "execution_count": 32
        }
      ]
    },
    {
      "cell_type": "code",
      "source": [
        "data.groupby('House Style')['House Style'].count()"
      ],
      "metadata": {
        "colab": {
          "base_uri": "https://localhost:8080/"
        },
        "id": "AFlLYQCVbDkC",
        "outputId": "dcd3c99b-987b-41b6-9f69-bf3200a22bf5"
      },
      "execution_count": 34,
      "outputs": [
        {
          "output_type": "execute_result",
          "data": {
            "text/plain": [
              "House Style\n",
              "1.5Fin     314\n",
              "1.5Unf      19\n",
              "1Story    1481\n",
              "2.5Fin       8\n",
              "2.5Unf      24\n",
              "2Story     873\n",
              "SFoyer      83\n",
              "SLvl       128\n",
              "Name: House Style, dtype: int64"
            ]
          },
          "metadata": {},
          "execution_count": 34
        }
      ]
    },
    {
      "cell_type": "code",
      "source": [
        "data.groupby('Fence')['Fence'].count()"
      ],
      "metadata": {
        "colab": {
          "base_uri": "https://localhost:8080/"
        },
        "id": "qYKYg-AUbDmw",
        "outputId": "4b96d832-3f3a-4c06-8c3e-05944e02ac0a"
      },
      "execution_count": 35,
      "outputs": [
        {
          "output_type": "execute_result",
          "data": {
            "text/plain": [
              "Fence\n",
              "GdPrv    118\n",
              "GdWo     112\n",
              "MnPrv    330\n",
              "MnWw      12\n",
              "Name: Fence, dtype: int64"
            ]
          },
          "metadata": {},
          "execution_count": 35
        }
      ]
    },
    {
      "cell_type": "code",
      "source": [
        "data.groupby('Sale Type')['Sale Type'].count()"
      ],
      "metadata": {
        "colab": {
          "base_uri": "https://localhost:8080/"
        },
        "id": "QzV2u-p0bDpz",
        "outputId": "e4a5a7f8-ee80-44d6-99b9-ece2d7f52f8e"
      },
      "execution_count": 36,
      "outputs": [
        {
          "output_type": "execute_result",
          "data": {
            "text/plain": [
              "Sale Type\n",
              "COD        87\n",
              "CWD        12\n",
              "Con         5\n",
              "ConLD      26\n",
              "ConLI       9\n",
              "ConLw       8\n",
              "New       239\n",
              "Oth         7\n",
              "VWD         1\n",
              "WD       2536\n",
              "Name: Sale Type, dtype: int64"
            ]
          },
          "metadata": {},
          "execution_count": 36
        }
      ]
    },
    {
      "cell_type": "code",
      "source": [
        "data.groupby('Sale Condition')['Sale Condition'].count()"
      ],
      "metadata": {
        "colab": {
          "base_uri": "https://localhost:8080/"
        },
        "id": "3bEVb7UwbDsP",
        "outputId": "d303bf73-3200-4937-e9b7-cdcf30af805d"
      },
      "execution_count": 37,
      "outputs": [
        {
          "output_type": "execute_result",
          "data": {
            "text/plain": [
              "Sale Condition\n",
              "Abnorml     190\n",
              "AdjLand      12\n",
              "Alloca       24\n",
              "Family       46\n",
              "Normal     2413\n",
              "Partial     245\n",
              "Name: Sale Condition, dtype: int64"
            ]
          },
          "metadata": {},
          "execution_count": 37
        }
      ]
    },
    {
      "cell_type": "code",
      "source": [
        "data.select_dtypes(exclude = ['object', 'int64', 'float64']).columns"
      ],
      "metadata": {
        "colab": {
          "base_uri": "https://localhost:8080/"
        },
        "id": "Ik5UzWSSbDvg",
        "outputId": "6658a4d9-ade2-4996-8f53-129efe42a876"
      },
      "execution_count": 45,
      "outputs": [
        {
          "output_type": "execute_result",
          "data": {
            "text/plain": [
              "Index([], dtype='object')"
            ]
          },
          "metadata": {},
          "execution_count": 45
        }
      ]
    },
    {
      "cell_type": "code",
      "source": [
        "data.select_dtypes(include = ['int64']).columns"
      ],
      "metadata": {
        "colab": {
          "base_uri": "https://localhost:8080/"
        },
        "id": "6EYQ9JLScvwn",
        "outputId": "cb8d209a-e3f7-4c24-a5aa-35f257c0db45"
      },
      "execution_count": 47,
      "outputs": [
        {
          "output_type": "execute_result",
          "data": {
            "text/plain": [
              "Index(['Order', 'PID', 'MS SubClass', 'Lot Area', 'Overall Qual',\n",
              "       'Overall Cond', 'Year Built', 'Year Remod/Add', '1st Flr SF',\n",
              "       '2nd Flr SF', 'Low Qual Fin SF', 'Gr Liv Area', 'Full Bath',\n",
              "       'Half Bath', 'Bedroom AbvGr', 'Kitchen AbvGr', 'TotRms AbvGrd',\n",
              "       'Fireplaces', 'Wood Deck SF', 'Open Porch SF', 'Enclosed Porch',\n",
              "       '3Ssn Porch', 'Screen Porch', 'Pool Area', 'Misc Val', 'Mo Sold',\n",
              "       'Yr Sold', 'SalePrice'],\n",
              "      dtype='object')"
            ]
          },
          "metadata": {},
          "execution_count": 47
        }
      ]
    },
    {
      "cell_type": "code",
      "source": [
        "data.select_dtypes(include = ['float64']).columns"
      ],
      "metadata": {
        "colab": {
          "base_uri": "https://localhost:8080/"
        },
        "id": "ZoSyHPsgetdQ",
        "outputId": "d142512f-56c6-4c4b-ef66-6ab654f6beed"
      },
      "execution_count": 60,
      "outputs": [
        {
          "output_type": "execute_result",
          "data": {
            "text/plain": [
              "Index(['Lot Frontage', 'Mas Vnr Area', 'BsmtFin SF 1', 'BsmtFin SF 2',\n",
              "       'Bsmt Unf SF', 'Total Bsmt SF', 'Bsmt Full Bath', 'Bsmt Half Bath',\n",
              "       'Garage Yr Blt', 'Garage Cars', 'Garage Area'],\n",
              "      dtype='object')"
            ]
          },
          "metadata": {},
          "execution_count": 60
        }
      ]
    },
    {
      "cell_type": "code",
      "source": [
        "#plik treningowy - wszystko poza 2010 rokiem\n",
        "#plik testowy - sprzedażaż w 2010\n",
        "# train = pd.read_csv('/content/train.csv')\n",
        "# test = pd.read_csv('/content/test.csv')\n",
        "# target = pd.read_csv('/content/target.csv')"
      ],
      "metadata": {
        "id": "24wLFdcyd6Ud"
      },
      "execution_count": 55,
      "outputs": []
    },
    {
      "cell_type": "code",
      "source": [
        "train = data[data['Yr Sold'] != 2010]\n",
        "train.reset_index(drop=True, inplace = True)\n",
        "test = data[data['Yr Sold'] == 2010]\n",
        "test.reset_index(drop=True, inplace = True)"
      ],
      "metadata": {
        "id": "43IUJpQ8eB2_"
      },
      "execution_count": 73,
      "outputs": []
    },
    {
      "cell_type": "code",
      "source": [
        "train['SalePrice'].describe()"
      ],
      "metadata": {
        "colab": {
          "base_uri": "https://localhost:8080/"
        },
        "id": "pOnh-wB3g6aK",
        "outputId": "958b5886-68c9-4b70-e76b-7e10c8c6d592"
      },
      "execution_count": 76,
      "outputs": [
        {
          "output_type": "execute_result",
          "data": {
            "text/plain": [
              "count      2589.000000\n",
              "mean     181875.888374\n",
              "std       80504.708260\n",
              "min       13100.000000\n",
              "25%      129900.000000\n",
              "50%      161500.000000\n",
              "75%      214000.000000\n",
              "max      755000.000000\n",
              "Name: SalePrice, dtype: float64"
            ]
          },
          "metadata": {},
          "execution_count": 76
        }
      ]
    }
  ]
}